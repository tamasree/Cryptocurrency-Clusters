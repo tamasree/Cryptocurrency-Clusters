{
 "cells": [
  {
   "cell_type": "code",
   "execution_count": 404,
   "id": "d604efdb-ca3e-4755-b87f-5e125625e36c",
   "metadata": {},
   "outputs": [],
   "source": [
    "import pandas as pd\n",
    "import numpy as np\n",
    "import matplotlib.pyplot as plt\n",
    "from sklearn.cluster import KMeans\n",
    "from sklearn.decomposition import PCA\n",
    "from sklearn.preprocessing import StandardScaler,MinMaxScaler\n",
    "from sklearn.manifold import TSNE"
   ]
  },
  {
   "cell_type": "code",
   "execution_count": 405,
   "id": "c0276a20-e8b4-4931-95f9-3fc37c235d77",
   "metadata": {},
   "outputs": [
    {
     "data": {
      "text/html": [
       "<div>\n",
       "<style scoped>\n",
       "    .dataframe tbody tr th:only-of-type {\n",
       "        vertical-align: middle;\n",
       "    }\n",
       "\n",
       "    .dataframe tbody tr th {\n",
       "        vertical-align: top;\n",
       "    }\n",
       "\n",
       "    .dataframe thead th {\n",
       "        text-align: right;\n",
       "    }\n",
       "</style>\n",
       "<table border=\"1\" class=\"dataframe\">\n",
       "  <thead>\n",
       "    <tr style=\"text-align: right;\">\n",
       "      <th></th>\n",
       "      <th>Unnamed: 0</th>\n",
       "      <th>CoinName</th>\n",
       "      <th>Algorithm</th>\n",
       "      <th>IsTrading</th>\n",
       "      <th>ProofType</th>\n",
       "      <th>TotalCoinsMined</th>\n",
       "      <th>TotalCoinSupply</th>\n",
       "    </tr>\n",
       "  </thead>\n",
       "  <tbody>\n",
       "    <tr>\n",
       "      <th>0</th>\n",
       "      <td>42</td>\n",
       "      <td>42 Coin</td>\n",
       "      <td>Scrypt</td>\n",
       "      <td>True</td>\n",
       "      <td>PoW/PoS</td>\n",
       "      <td>4.199995e+01</td>\n",
       "      <td>42</td>\n",
       "    </tr>\n",
       "    <tr>\n",
       "      <th>1</th>\n",
       "      <td>365</td>\n",
       "      <td>365Coin</td>\n",
       "      <td>X11</td>\n",
       "      <td>True</td>\n",
       "      <td>PoW/PoS</td>\n",
       "      <td>NaN</td>\n",
       "      <td>2300000000</td>\n",
       "    </tr>\n",
       "    <tr>\n",
       "      <th>2</th>\n",
       "      <td>404</td>\n",
       "      <td>404Coin</td>\n",
       "      <td>Scrypt</td>\n",
       "      <td>True</td>\n",
       "      <td>PoW/PoS</td>\n",
       "      <td>1.055185e+09</td>\n",
       "      <td>532000000</td>\n",
       "    </tr>\n",
       "    <tr>\n",
       "      <th>3</th>\n",
       "      <td>611</td>\n",
       "      <td>SixEleven</td>\n",
       "      <td>SHA-256</td>\n",
       "      <td>True</td>\n",
       "      <td>PoW</td>\n",
       "      <td>NaN</td>\n",
       "      <td>611000</td>\n",
       "    </tr>\n",
       "    <tr>\n",
       "      <th>4</th>\n",
       "      <td>808</td>\n",
       "      <td>808</td>\n",
       "      <td>SHA-256</td>\n",
       "      <td>True</td>\n",
       "      <td>PoW/PoS</td>\n",
       "      <td>0.000000e+00</td>\n",
       "      <td>0</td>\n",
       "    </tr>\n",
       "  </tbody>\n",
       "</table>\n",
       "</div>"
      ],
      "text/plain": [
       "  Unnamed: 0   CoinName Algorithm  IsTrading ProofType  TotalCoinsMined  \\\n",
       "0         42    42 Coin    Scrypt       True   PoW/PoS     4.199995e+01   \n",
       "1        365    365Coin       X11       True   PoW/PoS              NaN   \n",
       "2        404    404Coin    Scrypt       True   PoW/PoS     1.055185e+09   \n",
       "3        611  SixEleven   SHA-256       True       PoW              NaN   \n",
       "4        808        808   SHA-256       True   PoW/PoS     0.000000e+00   \n",
       "\n",
       "  TotalCoinSupply  \n",
       "0              42  \n",
       "1      2300000000  \n",
       "2       532000000  \n",
       "3          611000  \n",
       "4               0  "
      ]
     },
     "execution_count": 405,
     "metadata": {},
     "output_type": "execute_result"
    }
   ],
   "source": [
    "df=pd.read_csv(\"crypto_data.csv\")\n",
    "df.head()"
   ]
  },
  {
   "cell_type": "code",
   "execution_count": 406,
   "id": "7de82cdb-6ec5-420d-a34b-88b37ea05c2b",
   "metadata": {},
   "outputs": [
    {
     "data": {
      "text/plain": [
       "Unnamed: 0          object\n",
       "CoinName            object\n",
       "Algorithm           object\n",
       "IsTrading             bool\n",
       "ProofType           object\n",
       "TotalCoinsMined    float64\n",
       "TotalCoinSupply     object\n",
       "dtype: object"
      ]
     },
     "execution_count": 406,
     "metadata": {},
     "output_type": "execute_result"
    }
   ],
   "source": [
    "df.dtypes"
   ]
  },
  {
   "cell_type": "code",
   "execution_count": 407,
   "id": "10c5e41b-b236-4d7b-9bd9-b2946664e0db",
   "metadata": {},
   "outputs": [
    {
     "data": {
      "text/plain": [
       "True     1144\n",
       "False     108\n",
       "Name: IsTrading, dtype: int64"
      ]
     },
     "execution_count": 407,
     "metadata": {},
     "output_type": "execute_result"
    }
   ],
   "source": [
    "# discard all crypto currencied that are not being traded and  drop the 'IsTrading' column from the dataframe.\n",
    "df['IsTrading'].value_counts()"
   ]
  },
  {
   "cell_type": "code",
   "execution_count": 408,
   "id": "b6f84645-6920-4e76-bc4f-fc4dabe5c5bb",
   "metadata": {},
   "outputs": [],
   "source": [
    "df=df.loc[df['IsTrading']== True,:]"
   ]
  },
  {
   "cell_type": "code",
   "execution_count": 409,
   "id": "9f85742b-351d-4451-8162-ef5e5318d8b3",
   "metadata": {},
   "outputs": [
    {
     "data": {
      "text/plain": [
       "True    1144\n",
       "Name: IsTrading, dtype: int64"
      ]
     },
     "execution_count": 409,
     "metadata": {},
     "output_type": "execute_result"
    }
   ],
   "source": [
    "df['IsTrading'].value_counts()"
   ]
  },
  {
   "cell_type": "code",
   "execution_count": 410,
   "id": "fad2a358-a6b0-4a02-a58a-33d1d1b2982c",
   "metadata": {},
   "outputs": [
    {
     "data": {
      "text/plain": [
       "Index(['CoinName', 'Algorithm', 'ProofType', 'TotalCoinsMined',\n",
       "       'TotalCoinSupply'],\n",
       "      dtype='object')"
      ]
     },
     "execution_count": 410,
     "metadata": {},
     "output_type": "execute_result"
    }
   ],
   "source": [
    "df=df.drop(['Unnamed: 0','IsTrading'],axis=1)\n",
    "df.columns"
   ]
  },
  {
   "cell_type": "code",
   "execution_count": 411,
   "id": "e3c8bd61-3994-4243-ad6f-5337cd65e766",
   "metadata": {},
   "outputs": [
    {
     "data": {
      "text/plain": [
       "CoinName             0\n",
       "Algorithm            0\n",
       "ProofType            0\n",
       "TotalCoinsMined    459\n",
       "TotalCoinSupply      0\n",
       "dtype: int64"
      ]
     },
     "execution_count": 411,
     "metadata": {},
     "output_type": "execute_result"
    }
   ],
   "source": [
    "# Remove all rows that have at least one null value.\n",
    "df.isnull().sum()"
   ]
  },
  {
   "cell_type": "code",
   "execution_count": 412,
   "id": "541335f5-7f4f-4f71-8161-092fa725a9ed",
   "metadata": {},
   "outputs": [],
   "source": [
    "df=df.dropna(axis=0,how='any')"
   ]
  },
  {
   "cell_type": "code",
   "execution_count": 413,
   "id": "529ad504-1bc5-498d-b915-4938ab06a8d6",
   "metadata": {},
   "outputs": [
    {
     "data": {
      "text/plain": [
       "CoinName           0\n",
       "Algorithm          0\n",
       "ProofType          0\n",
       "TotalCoinsMined    0\n",
       "TotalCoinSupply    0\n",
       "dtype: int64"
      ]
     },
     "execution_count": 413,
     "metadata": {},
     "output_type": "execute_result"
    }
   ],
   "source": [
    "df.isnull().sum()"
   ]
  },
  {
   "cell_type": "code",
   "execution_count": 414,
   "id": "2b57daa2-c668-4a1c-a5aa-2070a1346b7c",
   "metadata": {},
   "outputs": [
    {
     "data": {
      "text/plain": [
       "(685, 5)"
      ]
     },
     "execution_count": 414,
     "metadata": {},
     "output_type": "execute_result"
    }
   ],
   "source": [
    "df.shape"
   ]
  },
  {
   "cell_type": "code",
   "execution_count": 415,
   "id": "368598a4-fbb2-46dc-afde-90a807055420",
   "metadata": {},
   "outputs": [],
   "source": [
    "#Filter for cryptocurrencies that have been mined. That is, the total coins mined should be greater than zero.\n",
    "df=df.loc[df['TotalCoinsMined']>0,:]"
   ]
  },
  {
   "cell_type": "code",
   "execution_count": 416,
   "id": "1ccca1ad-81ae-4aa5-aa24-1d39eebecc36",
   "metadata": {},
   "outputs": [
    {
     "data": {
      "text/plain": [
       "(532, 5)"
      ]
     },
     "execution_count": 416,
     "metadata": {},
     "output_type": "execute_result"
    }
   ],
   "source": [
    "df.shape"
   ]
  },
  {
   "cell_type": "code",
   "execution_count": 417,
   "id": "07ef6502-0770-4f5a-8831-696820d4d066",
   "metadata": {},
   "outputs": [],
   "source": [
    "# delete the CoinName from the original dataframe.\n",
    "df=df.drop('CoinName',axis=1)"
   ]
  },
  {
   "cell_type": "code",
   "execution_count": 418,
   "id": "98bf11ad-ce43-4219-9397-3b51415ac37b",
   "metadata": {},
   "outputs": [],
   "source": [
    "df['TotalCoinSupply']=df['TotalCoinSupply'].astype(float)"
   ]
  },
  {
   "cell_type": "code",
   "execution_count": 419,
   "id": "4d898905-55e5-4fb4-bf18-404be85706a3",
   "metadata": {},
   "outputs": [
    {
     "data": {
      "text/html": [
       "<div>\n",
       "<style scoped>\n",
       "    .dataframe tbody tr th:only-of-type {\n",
       "        vertical-align: middle;\n",
       "    }\n",
       "\n",
       "    .dataframe tbody tr th {\n",
       "        vertical-align: top;\n",
       "    }\n",
       "\n",
       "    .dataframe thead th {\n",
       "        text-align: right;\n",
       "    }\n",
       "</style>\n",
       "<table border=\"1\" class=\"dataframe\">\n",
       "  <thead>\n",
       "    <tr style=\"text-align: right;\">\n",
       "      <th></th>\n",
       "      <th>Algorithm</th>\n",
       "      <th>ProofType</th>\n",
       "      <th>TotalCoinsMined</th>\n",
       "      <th>TotalCoinSupply</th>\n",
       "    </tr>\n",
       "  </thead>\n",
       "  <tbody>\n",
       "    <tr>\n",
       "      <th>0</th>\n",
       "      <td>Scrypt</td>\n",
       "      <td>PoW/PoS</td>\n",
       "      <td>4.199995e+01</td>\n",
       "      <td>4.200000e+01</td>\n",
       "    </tr>\n",
       "    <tr>\n",
       "      <th>2</th>\n",
       "      <td>Scrypt</td>\n",
       "      <td>PoW/PoS</td>\n",
       "      <td>1.055185e+09</td>\n",
       "      <td>5.320000e+08</td>\n",
       "    </tr>\n",
       "    <tr>\n",
       "      <th>5</th>\n",
       "      <td>X13</td>\n",
       "      <td>PoW/PoS</td>\n",
       "      <td>2.927942e+10</td>\n",
       "      <td>3.141593e+11</td>\n",
       "    </tr>\n",
       "    <tr>\n",
       "      <th>7</th>\n",
       "      <td>SHA-256</td>\n",
       "      <td>PoW</td>\n",
       "      <td>1.792718e+07</td>\n",
       "      <td>2.100000e+07</td>\n",
       "    </tr>\n",
       "    <tr>\n",
       "      <th>8</th>\n",
       "      <td>Ethash</td>\n",
       "      <td>PoW</td>\n",
       "      <td>1.076842e+08</td>\n",
       "      <td>0.000000e+00</td>\n",
       "    </tr>\n",
       "  </tbody>\n",
       "</table>\n",
       "</div>"
      ],
      "text/plain": [
       "  Algorithm ProofType  TotalCoinsMined  TotalCoinSupply\n",
       "0    Scrypt   PoW/PoS     4.199995e+01     4.200000e+01\n",
       "2    Scrypt   PoW/PoS     1.055185e+09     5.320000e+08\n",
       "5       X13   PoW/PoS     2.927942e+10     3.141593e+11\n",
       "7   SHA-256       PoW     1.792718e+07     2.100000e+07\n",
       "8    Ethash       PoW     1.076842e+08     0.000000e+00"
      ]
     },
     "execution_count": 419,
     "metadata": {},
     "output_type": "execute_result"
    }
   ],
   "source": [
    "df.head()"
   ]
  },
  {
   "cell_type": "code",
   "execution_count": 420,
   "id": "3d2e1c0d-a5a8-4c1a-ba07-72b1543ec34c",
   "metadata": {},
   "outputs": [
    {
     "data": {
      "text/plain": [
       "Algorithm           object\n",
       "ProofType           object\n",
       "TotalCoinsMined    float64\n",
       "TotalCoinSupply    float64\n",
       "dtype: object"
      ]
     },
     "execution_count": 420,
     "metadata": {},
     "output_type": "execute_result"
    }
   ],
   "source": [
    "df.dtypes"
   ]
  },
  {
   "cell_type": "code",
   "execution_count": 421,
   "id": "27a51259-7945-461e-a9b3-3ba1afed4ca6",
   "metadata": {},
   "outputs": [
    {
     "data": {
      "text/plain": [
       "(532, 4)"
      ]
     },
     "execution_count": 421,
     "metadata": {},
     "output_type": "execute_result"
    }
   ],
   "source": [
    "df.shape"
   ]
  },
  {
   "cell_type": "code",
   "execution_count": 422,
   "id": "329e5fb2-77a4-4986-9be0-eb0aff1bc681",
   "metadata": {},
   "outputs": [
    {
     "data": {
      "text/plain": [
       "Index(['TotalCoinsMined', 'TotalCoinSupply', 'Algorithm_536',\n",
       "       'Algorithm_Argon2d', 'Algorithm_BLAKE256', 'Algorithm_Blake',\n",
       "       'Algorithm_Blake2S', 'Algorithm_Blake2b', 'Algorithm_C11',\n",
       "       'Algorithm_Cloverhash', 'Algorithm_Counterparty',\n",
       "       'Algorithm_CryptoNight', 'Algorithm_CryptoNight Heavy',\n",
       "       'Algorithm_CryptoNight-V7', 'Algorithm_Cryptonight-GPU',\n",
       "       'Algorithm_DPoS', 'Algorithm_Dagger', 'Algorithm_Dagger-Hashimoto',\n",
       "       'Algorithm_ECC 256K1', 'Algorithm_Equihash',\n",
       "       'Algorithm_Equihash+Scrypt', 'Algorithm_Ethash', 'Algorithm_Exosis',\n",
       "       'Algorithm_Green Protocol', 'Algorithm_Groestl', 'Algorithm_HMQ1725',\n",
       "       'Algorithm_HybridScryptHash256', 'Algorithm_IMesh',\n",
       "       'Algorithm_Jump Consistent Hash', 'Algorithm_Keccak',\n",
       "       'Algorithm_Leased POS', 'Algorithm_Lyra2RE', 'Algorithm_Lyra2REv2',\n",
       "       'Algorithm_Lyra2Z', 'Algorithm_M7 POW', 'Algorithm_Multiple',\n",
       "       'Algorithm_NIST5', 'Algorithm_NeoScrypt', 'Algorithm_Ouroboros',\n",
       "       'Algorithm_PHI1612', 'Algorithm_POS 2.0', 'Algorithm_POS 3.0',\n",
       "       'Algorithm_PoS', 'Algorithm_Proof-of-Authority',\n",
       "       'Algorithm_Proof-of-BibleHash', 'Algorithm_QUAIT', 'Algorithm_QuBit',\n",
       "       'Algorithm_Quark', 'Algorithm_SHA-256', 'Algorithm_SHA-256 + Hive',\n",
       "       'Algorithm_SHA-256D', 'Algorithm_SHA-512', 'Algorithm_SHA3',\n",
       "       'Algorithm_Scrypt', 'Algorithm_Semux BFT consensus',\n",
       "       'Algorithm_Shabal256', 'Algorithm_Skein', 'Algorithm_SkunkHash',\n",
       "       'Algorithm_SkunkHash v2 Raptor', 'Algorithm_Stanford Folding',\n",
       "       'Algorithm_TRC10', 'Algorithm_Time Travel', 'Algorithm_Tribus',\n",
       "       'Algorithm_VBFT', 'Algorithm_VeChainThor Authority', 'Algorithm_X11',\n",
       "       'Algorithm_X11GOST', 'Algorithm_X13', 'Algorithm_X14', 'Algorithm_X15',\n",
       "       'Algorithm_X16R', 'Algorithm_XEVAN', 'ProofType_DPoS', 'ProofType_HPoW',\n",
       "       'ProofType_LPoS', 'ProofType_POBh', 'ProofType_PoA', 'ProofType_PoC',\n",
       "       'ProofType_PoS', 'ProofType_PoS/LPoS', 'ProofType_PoS/PoW',\n",
       "       'ProofType_PoS/PoW/PoT', 'ProofType_PoST', 'ProofType_PoW',\n",
       "       'ProofType_PoW + Hive', 'ProofType_PoW and PoS', 'ProofType_PoW/PoS',\n",
       "       'ProofType_PoW/PoS ', 'ProofType_PoW/PoW', 'ProofType_PoW/nPoS',\n",
       "       'ProofType_Pos', 'ProofType_Proof of Authority',\n",
       "       'ProofType_Proof of Trust', 'ProofType_TPoS',\n",
       "       'ProofType_Zero-Knowledge Proof', 'ProofType_dPoW/PoW'],\n",
       "      dtype='object')"
      ]
     },
     "execution_count": 422,
     "metadata": {},
     "output_type": "execute_result"
    }
   ],
   "source": [
    "#use Pandas to create dummy variables for categorical columns \n",
    "df_encoded=pd.get_dummies(df,drop_first=True) \n",
    "df_encoded.columns"
   ]
  },
  {
   "cell_type": "code",
   "execution_count": 423,
   "id": "02a28f61-4d58-4e90-bb50-d38ea822ac63",
   "metadata": {},
   "outputs": [
    {
     "data": {
      "text/html": [
       "<div>\n",
       "<style scoped>\n",
       "    .dataframe tbody tr th:only-of-type {\n",
       "        vertical-align: middle;\n",
       "    }\n",
       "\n",
       "    .dataframe tbody tr th {\n",
       "        vertical-align: top;\n",
       "    }\n",
       "\n",
       "    .dataframe thead th {\n",
       "        text-align: right;\n",
       "    }\n",
       "</style>\n",
       "<table border=\"1\" class=\"dataframe\">\n",
       "  <thead>\n",
       "    <tr style=\"text-align: right;\">\n",
       "      <th></th>\n",
       "      <th>TotalCoinsMined</th>\n",
       "      <th>TotalCoinSupply</th>\n",
       "      <th>Algorithm_536</th>\n",
       "      <th>Algorithm_Argon2d</th>\n",
       "      <th>Algorithm_BLAKE256</th>\n",
       "      <th>Algorithm_Blake</th>\n",
       "      <th>Algorithm_Blake2S</th>\n",
       "      <th>Algorithm_Blake2b</th>\n",
       "      <th>Algorithm_C11</th>\n",
       "      <th>Algorithm_Cloverhash</th>\n",
       "      <th>...</th>\n",
       "      <th>ProofType_PoW/PoS</th>\n",
       "      <th>ProofType_PoW/PoS</th>\n",
       "      <th>ProofType_PoW/PoW</th>\n",
       "      <th>ProofType_PoW/nPoS</th>\n",
       "      <th>ProofType_Pos</th>\n",
       "      <th>ProofType_Proof of Authority</th>\n",
       "      <th>ProofType_Proof of Trust</th>\n",
       "      <th>ProofType_TPoS</th>\n",
       "      <th>ProofType_Zero-Knowledge Proof</th>\n",
       "      <th>ProofType_dPoW/PoW</th>\n",
       "    </tr>\n",
       "  </thead>\n",
       "  <tbody>\n",
       "    <tr>\n",
       "      <th>0</th>\n",
       "      <td>4.199995e+01</td>\n",
       "      <td>4.200000e+01</td>\n",
       "      <td>0</td>\n",
       "      <td>0</td>\n",
       "      <td>0</td>\n",
       "      <td>0</td>\n",
       "      <td>0</td>\n",
       "      <td>0</td>\n",
       "      <td>0</td>\n",
       "      <td>0</td>\n",
       "      <td>...</td>\n",
       "      <td>1</td>\n",
       "      <td>0</td>\n",
       "      <td>0</td>\n",
       "      <td>0</td>\n",
       "      <td>0</td>\n",
       "      <td>0</td>\n",
       "      <td>0</td>\n",
       "      <td>0</td>\n",
       "      <td>0</td>\n",
       "      <td>0</td>\n",
       "    </tr>\n",
       "    <tr>\n",
       "      <th>2</th>\n",
       "      <td>1.055185e+09</td>\n",
       "      <td>5.320000e+08</td>\n",
       "      <td>0</td>\n",
       "      <td>0</td>\n",
       "      <td>0</td>\n",
       "      <td>0</td>\n",
       "      <td>0</td>\n",
       "      <td>0</td>\n",
       "      <td>0</td>\n",
       "      <td>0</td>\n",
       "      <td>...</td>\n",
       "      <td>1</td>\n",
       "      <td>0</td>\n",
       "      <td>0</td>\n",
       "      <td>0</td>\n",
       "      <td>0</td>\n",
       "      <td>0</td>\n",
       "      <td>0</td>\n",
       "      <td>0</td>\n",
       "      <td>0</td>\n",
       "      <td>0</td>\n",
       "    </tr>\n",
       "    <tr>\n",
       "      <th>5</th>\n",
       "      <td>2.927942e+10</td>\n",
       "      <td>3.141593e+11</td>\n",
       "      <td>0</td>\n",
       "      <td>0</td>\n",
       "      <td>0</td>\n",
       "      <td>0</td>\n",
       "      <td>0</td>\n",
       "      <td>0</td>\n",
       "      <td>0</td>\n",
       "      <td>0</td>\n",
       "      <td>...</td>\n",
       "      <td>1</td>\n",
       "      <td>0</td>\n",
       "      <td>0</td>\n",
       "      <td>0</td>\n",
       "      <td>0</td>\n",
       "      <td>0</td>\n",
       "      <td>0</td>\n",
       "      <td>0</td>\n",
       "      <td>0</td>\n",
       "      <td>0</td>\n",
       "    </tr>\n",
       "    <tr>\n",
       "      <th>7</th>\n",
       "      <td>1.792718e+07</td>\n",
       "      <td>2.100000e+07</td>\n",
       "      <td>0</td>\n",
       "      <td>0</td>\n",
       "      <td>0</td>\n",
       "      <td>0</td>\n",
       "      <td>0</td>\n",
       "      <td>0</td>\n",
       "      <td>0</td>\n",
       "      <td>0</td>\n",
       "      <td>...</td>\n",
       "      <td>0</td>\n",
       "      <td>0</td>\n",
       "      <td>0</td>\n",
       "      <td>0</td>\n",
       "      <td>0</td>\n",
       "      <td>0</td>\n",
       "      <td>0</td>\n",
       "      <td>0</td>\n",
       "      <td>0</td>\n",
       "      <td>0</td>\n",
       "    </tr>\n",
       "    <tr>\n",
       "      <th>8</th>\n",
       "      <td>1.076842e+08</td>\n",
       "      <td>0.000000e+00</td>\n",
       "      <td>0</td>\n",
       "      <td>0</td>\n",
       "      <td>0</td>\n",
       "      <td>0</td>\n",
       "      <td>0</td>\n",
       "      <td>0</td>\n",
       "      <td>0</td>\n",
       "      <td>0</td>\n",
       "      <td>...</td>\n",
       "      <td>0</td>\n",
       "      <td>0</td>\n",
       "      <td>0</td>\n",
       "      <td>0</td>\n",
       "      <td>0</td>\n",
       "      <td>0</td>\n",
       "      <td>0</td>\n",
       "      <td>0</td>\n",
       "      <td>0</td>\n",
       "      <td>0</td>\n",
       "    </tr>\n",
       "  </tbody>\n",
       "</table>\n",
       "<p>5 rows × 96 columns</p>\n",
       "</div>"
      ],
      "text/plain": [
       "   TotalCoinsMined  TotalCoinSupply  Algorithm_536  Algorithm_Argon2d  \\\n",
       "0     4.199995e+01     4.200000e+01              0                  0   \n",
       "2     1.055185e+09     5.320000e+08              0                  0   \n",
       "5     2.927942e+10     3.141593e+11              0                  0   \n",
       "7     1.792718e+07     2.100000e+07              0                  0   \n",
       "8     1.076842e+08     0.000000e+00              0                  0   \n",
       "\n",
       "   Algorithm_BLAKE256  Algorithm_Blake  Algorithm_Blake2S  Algorithm_Blake2b  \\\n",
       "0                   0                0                  0                  0   \n",
       "2                   0                0                  0                  0   \n",
       "5                   0                0                  0                  0   \n",
       "7                   0                0                  0                  0   \n",
       "8                   0                0                  0                  0   \n",
       "\n",
       "   Algorithm_C11  Algorithm_Cloverhash  ...  ProofType_PoW/PoS  \\\n",
       "0              0                     0  ...                  1   \n",
       "2              0                     0  ...                  1   \n",
       "5              0                     0  ...                  1   \n",
       "7              0                     0  ...                  0   \n",
       "8              0                     0  ...                  0   \n",
       "\n",
       "   ProofType_PoW/PoS   ProofType_PoW/PoW  ProofType_PoW/nPoS  ProofType_Pos  \\\n",
       "0                   0                  0                   0              0   \n",
       "2                   0                  0                   0              0   \n",
       "5                   0                  0                   0              0   \n",
       "7                   0                  0                   0              0   \n",
       "8                   0                  0                   0              0   \n",
       "\n",
       "   ProofType_Proof of Authority  ProofType_Proof of Trust  ProofType_TPoS  \\\n",
       "0                             0                         0               0   \n",
       "2                             0                         0               0   \n",
       "5                             0                         0               0   \n",
       "7                             0                         0               0   \n",
       "8                             0                         0               0   \n",
       "\n",
       "   ProofType_Zero-Knowledge Proof  ProofType_dPoW/PoW  \n",
       "0                               0                   0  \n",
       "2                               0                   0  \n",
       "5                               0                   0  \n",
       "7                               0                   0  \n",
       "8                               0                   0  \n",
       "\n",
       "[5 rows x 96 columns]"
      ]
     },
     "execution_count": 423,
     "metadata": {},
     "output_type": "execute_result"
    }
   ],
   "source": [
    "df_encoded.head()"
   ]
  },
  {
   "cell_type": "code",
   "execution_count": 424,
   "id": "8bd0a967-e40e-4719-81eb-4c44ad29dd1e",
   "metadata": {},
   "outputs": [
    {
     "data": {
      "text/plain": [
       "(532, 96)"
      ]
     },
     "execution_count": 424,
     "metadata": {},
     "output_type": "execute_result"
    }
   ],
   "source": [
    "df_encoded.shape"
   ]
  },
  {
   "cell_type": "markdown",
   "id": "7c17cdd0-c11c-42a1-afeb-99fc00be1b85",
   "metadata": {},
   "source": [
    "#### Notice: using pandas get_dummies() increase number of columns."
   ]
  },
  {
   "cell_type": "code",
   "execution_count": 425,
   "id": "7b1f6162-b180-4631-8b68-0f31bd534593",
   "metadata": {},
   "outputs": [],
   "source": [
    "#Standardize your dataset so that columns that contain larger values do not unduly influence the outcome.\n",
    "df_scaled=MinMaxScaler().fit_transform(df_encoded)"
   ]
  },
  {
   "cell_type": "code",
   "execution_count": 426,
   "id": "7c38334d-68b0-438e-8fdb-6a31603091ae",
   "metadata": {},
   "outputs": [
    {
     "data": {
      "text/plain": [
       "(532, 28)"
      ]
     },
     "execution_count": 426,
     "metadata": {},
     "output_type": "execute_result"
    }
   ],
   "source": [
    "pca=PCA(n_components=0.90)\n",
    "df_pca=pca.fit_transform(df_scaled)\n",
    "df_pca.shape"
   ]
  },
  {
   "cell_type": "code",
   "execution_count": 427,
   "id": "92bd1f0c-41de-4237-9d04-a4e1af5cd3bc",
   "metadata": {},
   "outputs": [
    {
     "data": {
      "text/plain": [
       "(532, 2)"
      ]
     },
     "execution_count": 427,
     "metadata": {},
     "output_type": "execute_result"
    }
   ],
   "source": [
    "tsne=TSNE (learning_rate=150)\n",
    "tsne_featues=tsne.fit_transform(df_pca)\n",
    "tsne_featues.shape"
   ]
  },
  {
   "cell_type": "code",
   "execution_count": 428,
   "id": "d2707e5f-330e-45d9-abab-de1871e89670",
   "metadata": {},
   "outputs": [
    {
     "data": {
      "image/png": "[encoded data removed]",
      "text/plain": [
       "<Figure size 432x288 with 1 Axes>"
      ]
     },
     "metadata": {
      "needs_background": "light"
     },
     "output_type": "display_data"
    }
   ],
   "source": [
    "plt.scatter(tsne_featues[:,0],tsne_featues[:,1])\n",
    "plt.show()"
   ]
  },
  {
   "cell_type": "markdown",
   "id": "7d0188c5-9226-4d92-965d-ec262ccb498e",
   "metadata": {},
   "source": [
    "#### 5 clusters can be noticed in TSNE features plot"
   ]
  },
  {
   "cell_type": "code",
   "execution_count": 429,
   "id": "702dc755-829e-47a5-8da2-c54fab46005f",
   "metadata": {},
   "outputs": [],
   "source": [
    "inertia=[]\n",
    "k=np.arange(1,11,1)\n",
    "\n",
    "for i in k:\n",
    "    km=KMeans(n_clusters=i)\n",
    "    km.fit(df_pca)\n",
    "    inertia.append(km.inertia_)"
   ]
  },
  {
   "cell_type": "code",
   "execution_count": 430,
   "id": "831eff90-5812-4633-92ba-5983ebafb977",
   "metadata": {},
   "outputs": [
    {
     "data": {
      "image/png": "[encoded data removed]",
      "text/plain": [
       "<Figure size 432x288 with 1 Axes>"
      ]
     },
     "metadata": {
      "needs_background": "light"
     },
     "output_type": "display_data"
    }
   ],
   "source": [
    "plt.plot(k, inertia)\n",
    "plt.xticks(range(1,11))\n",
    "plt.xlabel('Number of clusters')\n",
    "plt.ylabel('Inertia')\n",
    "plt.title('Elbow curve for crypto-currency data')\n",
    "plt.show()"
   ]
  },
  {
   "cell_type": "code",
   "execution_count": 439,
   "id": "7f18367c-2f02-4c37-812a-fd0f881d1fda",
   "metadata": {},
   "outputs": [],
   "source": [
    "km=KMeans(n_clusters=5)\n",
    "km.fit(df_pca)\n",
    "labels=km.labels_\n"
   ]
  },
  {
   "cell_type": "markdown",
   "id": "5bbdd066-5a24-4cf7-9edc-1837291efcf4",
   "metadata": {},
   "source": [
    "#### Plotting TSNE features with labeled data"
   ]
  },
  {
   "cell_type": "code",
   "execution_count": 434,
   "id": "aa184873-166e-4394-aeb5-c9fd89cbb55c",
   "metadata": {},
   "outputs": [
    {
     "data": {
      "image/png": "[encoded data removed]",
      "text/plain": [
       "<Figure size 432x288 with 1 Axes>"
      ]
     },
     "metadata": {
      "needs_background": "light"
     },
     "output_type": "display_data"
    }
   ],
   "source": [
    "plt.scatter(tsne_featues[:,0],tsne_featues[:,1],c= labels)\n",
    "plt.show()"
   ]
  },
  {
   "cell_type": "markdown",
   "id": "f09d7093-f1f9-4d47-83b0-7b637355461b",
   "metadata": {
    "tags": []
   },
   "source": [
    "#### Inertia slows down near K value 4. So based on this model cryptocurrencies can be clustered in  4 main clusters."
   ]
  },
  {
   "cell_type": "markdown",
   "id": "70613fb4-8d6c-4697-8c3d-0e495e767816",
   "metadata": {},
   "source": [
    "#### Trying to plot dendrogram to check no of possible clusters"
   ]
  },
  {
   "cell_type": "code",
   "execution_count": 435,
   "id": "bb354e7f-06bd-42a1-b8e1-826a0d2f5ca2",
   "metadata": {},
   "outputs": [],
   "source": [
    "from scipy.cluster.hierarchy import dendrogram, linkage\n"
   ]
  },
  {
   "cell_type": "code",
   "execution_count": 436,
   "id": "c4847682-0675-4bab-b52a-d2b95c362301",
   "metadata": {},
   "outputs": [],
   "source": [
    "# Perform hierarchical clustering\n",
    "mergings = linkage(df_pca, method='ward')"
   ]
  },
  {
   "cell_type": "code",
   "execution_count": 437,
   "id": "6fac1cff-1b3e-4dd0-8ba7-e8ad66a1f9ac",
   "metadata": {},
   "outputs": [
    {
     "data": {
      "image/png": "[encoded data removed]",
      "text/plain": [
       "<Figure size 864x576 with 1 Axes>"
      ]
     },
     "metadata": {
      "needs_background": "light"
     },
     "output_type": "display_data"
    }
   ],
   "source": [
    "# Generate a dendrogram\n",
    "plt.figure(figsize=(12,8))\n",
    "\n",
    "dendrogram(mergings,\n",
    "          leaf_rotation=90,\n",
    "          leaf_font_size=5)\n",
    "\n",
    "plt.show()"
   ]
  },
  {
   "cell_type": "markdown",
   "id": "184375b1-0d74-47ea-b855-d8afec092074",
   "metadata": {},
   "source": [
    "#### From dendrogram plot, it is noticed that this dataset can be classified in 3 main clusters."
   ]
  },
  {
   "cell_type": "code",
   "execution_count": null,
   "id": "a33be7ac-9d89-4116-9832-60776caef566",
   "metadata": {},
   "outputs": [],
   "source": []
  }
 ],
 "metadata": {
  "kernelspec": {
   "display_name": "Python 3",
   "language": "python",
   "name": "python3"
  },
  "language_info": {
   "codemirror_mode": {
    "name": "ipython",
    "version": 3
   },
   "file_extension": ".py",
   "mimetype": "text/x-python",
   "name": "python",
   "nbconvert_exporter": "python",
   "pygments_lexer": "ipython3",
   "version": "3.6.13"
  }
 },
 "nbformat": 4,
 "nbformat_minor": 5
}
